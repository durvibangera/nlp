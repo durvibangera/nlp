{
  "nbformat": 4,
  "nbformat_minor": 0,
  "metadata": {
    "colab": {
      "provenance": [],
      "authorship_tag": "ABX9TyN/DJHVkBgG5RJZiye2AV4h",
      "include_colab_link": true
    },
    "kernelspec": {
      "name": "python3",
      "display_name": "Python 3"
    },
    "language_info": {
      "name": "python"
    }
  },
  "cells": [
    {
      "cell_type": "markdown",
      "metadata": {
        "id": "view-in-github",
        "colab_type": "text"
      },
      "source": [
        "<a href=\"https://colab.research.google.com/github/durvibangera/nlp/blob/main/nlp_1_tokenization.ipynb\" target=\"_parent\"><img src=\"https://colab.research.google.com/assets/colab-badge.svg\" alt=\"Open In Colab\"/></a>"
      ]
    },
    {
      "cell_type": "code",
      "execution_count": null,
      "metadata": {
        "id": "VMmg-xJxcJk6"
      },
      "outputs": [],
      "source": [
        "corpus = '''\n",
        "Hello I'm Durvi Bangera!\n",
        "I love my boyfriend, Ebrahim Gamdiwala.\n",
        "I wish him the best.\n",
        "'''"
      ]
    },
    {
      "cell_type": "code",
      "source": [
        "print(corpus)"
      ],
      "metadata": {
        "colab": {
          "base_uri": "https://localhost:8080/"
        },
        "id": "5_pcbSWR1WCm",
        "outputId": "8444234a-b6b4-4fb0-b380-d22d5e25cad4"
      },
      "execution_count": null,
      "outputs": [
        {
          "output_type": "stream",
          "name": "stdout",
          "text": [
            "\n",
            "Hello I'm Durvi Bangera! \n",
            "I love my boyfriend, Ebrahim Gamdiwala. \n",
            "I wish him the best.\n",
            "\n"
          ]
        }
      ]
    },
    {
      "cell_type": "code",
      "source": [
        "## convert sentence to paras"
      ],
      "metadata": {
        "id": "Y38FqXHb1X90"
      },
      "execution_count": null,
      "outputs": []
    },
    {
      "cell_type": "code",
      "metadata": {
        "colab": {
          "base_uri": "https://localhost:8080/"
        },
        "id": "d9779c8e",
        "outputId": "23e88b5d-051d-44f1-968a-f455a6ab9f60"
      },
      "source": [
        "import nltk\n",
        "nltk.download('punkt_tab')"
      ],
      "execution_count": null,
      "outputs": [
        {
          "output_type": "stream",
          "name": "stderr",
          "text": [
            "[nltk_data] Downloading package punkt_tab to /root/nltk_data...\n",
            "[nltk_data]   Unzipping tokenizers/punkt_tab.zip.\n"
          ]
        },
        {
          "output_type": "execute_result",
          "data": {
            "text/plain": [
              "True"
            ]
          },
          "metadata": {},
          "execution_count": 13
        }
      ]
    },
    {
      "cell_type": "code",
      "source": [
        "from nltk.tokenize import sent_tokenize"
      ],
      "metadata": {
        "id": "AVwVqh6A1hPH"
      },
      "execution_count": null,
      "outputs": []
    },
    {
      "cell_type": "code",
      "source": [
        "documents = sent_tokenize(corpus)"
      ],
      "metadata": {
        "id": "9cbGUbFi1n1f"
      },
      "execution_count": null,
      "outputs": []
    },
    {
      "cell_type": "code",
      "source": [
        "type(documents)"
      ],
      "metadata": {
        "colab": {
          "base_uri": "https://localhost:8080/"
        },
        "id": "2cvZywnZ1phD",
        "outputId": "88b41b11-ca0f-4ab8-a114-ccc146752028"
      },
      "execution_count": null,
      "outputs": [
        {
          "output_type": "execute_result",
          "data": {
            "text/plain": [
              "list"
            ]
          },
          "metadata": {},
          "execution_count": 16
        }
      ]
    },
    {
      "cell_type": "code",
      "source": [
        "for sentences in documents:\n",
        "    print(sentences)"
      ],
      "metadata": {
        "colab": {
          "base_uri": "https://localhost:8080/"
        },
        "id": "WzTWgHZM2HNo",
        "outputId": "535480db-f3bf-42aa-e5b9-d34e48642331"
      },
      "execution_count": null,
      "outputs": [
        {
          "output_type": "stream",
          "name": "stdout",
          "text": [
            "\n",
            "Hello I'm Durvi Bangera!\n",
            "I love my boyfriend, Ebrahim Gamdiwala.\n",
            "I wish him the best.\n"
          ]
        }
      ]
    },
    {
      "cell_type": "code",
      "source": [
        "## convetr paras to words"
      ],
      "metadata": {
        "id": "eSxkw-ly2JVA"
      },
      "execution_count": null,
      "outputs": []
    },
    {
      "cell_type": "code",
      "source": [
        "from nltk.tokenize import word_tokenize"
      ],
      "metadata": {
        "id": "WDK4cu1Q2M49"
      },
      "execution_count": null,
      "outputs": []
    },
    {
      "cell_type": "code",
      "source": [
        "word_tokenize(corpus)"
      ],
      "metadata": {
        "colab": {
          "base_uri": "https://localhost:8080/"
        },
        "id": "L35pEkKg2Opc",
        "outputId": "65b9b63c-7fcd-4d43-d76e-65830492b9d6"
      },
      "execution_count": null,
      "outputs": [
        {
          "output_type": "execute_result",
          "data": {
            "text/plain": [
              "['Hello',\n",
              " 'I',\n",
              " \"'m\",\n",
              " 'Durvi',\n",
              " 'Bangera',\n",
              " '!',\n",
              " 'I',\n",
              " 'love',\n",
              " 'my',\n",
              " 'boyfriend',\n",
              " ',',\n",
              " 'Ebrahim',\n",
              " 'Gamdiwala',\n",
              " '.',\n",
              " 'I',\n",
              " 'wish',\n",
              " 'him',\n",
              " 'the',\n",
              " 'best',\n",
              " '.']"
            ]
          },
          "metadata": {},
          "execution_count": 20
        }
      ]
    },
    {
      "cell_type": "code",
      "source": [
        "from nltk.tokenize import TreebankWordTokenizer"
      ],
      "metadata": {
        "id": "E-JZ_8AQ2RNo"
      },
      "execution_count": null,
      "outputs": []
    },
    {
      "cell_type": "code",
      "source": [
        "tokenizer = TreebankWordTokenizer()"
      ],
      "metadata": {
        "id": "2-ZAJD4S2uux"
      },
      "execution_count": null,
      "outputs": []
    },
    {
      "cell_type": "code",
      "source": [
        "tokenizer.tokenize(corpus)"
      ],
      "metadata": {
        "colab": {
          "base_uri": "https://localhost:8080/"
        },
        "id": "9D1wZYfe2z-e",
        "outputId": "68ec60af-faa0-4f3a-f072-66385d541a13"
      },
      "execution_count": null,
      "outputs": [
        {
          "output_type": "execute_result",
          "data": {
            "text/plain": [
              "['Hello',\n",
              " 'I',\n",
              " \"'m\",\n",
              " 'Durvi',\n",
              " 'Bangera',\n",
              " '!',\n",
              " 'I',\n",
              " 'love',\n",
              " 'my',\n",
              " 'boyfriend',\n",
              " ',',\n",
              " 'Ebrahim',\n",
              " 'Gamdiwala.',\n",
              " 'I',\n",
              " 'wish',\n",
              " 'him',\n",
              " 'the',\n",
              " 'best',\n",
              " '.']"
            ]
          },
          "metadata": {},
          "execution_count": 23
        }
      ]
    },
    {
      "cell_type": "code",
      "source": [],
      "metadata": {
        "id": "jEGYEaAG21lg"
      },
      "execution_count": null,
      "outputs": []
    }
  ]
}